{
 "cells": [
  {
   "cell_type": "code",
   "execution_count": 1,
   "id": "0637d394",
   "metadata": {},
   "outputs": [],
   "source": [
    "import pandas as pd"
   ]
  },
  {
   "cell_type": "code",
   "execution_count": 2,
   "id": "c9b66e12",
   "metadata": {},
   "outputs": [],
   "source": [
    "import sys\n",
    "import os\n",
    "sys.path.append(os.getcwd() + '\\The 1 Million Song Database') # Add any directories that you need\n",
    "#print(sys.path)"
   ]
  },
  {
   "cell_type": "code",
   "execution_count": 3,
   "id": "92a1a276",
   "metadata": {},
   "outputs": [],
   "source": [
    "import hdf5_getters"
   ]
  },
  {
   "cell_type": "code",
   "execution_count": 4,
   "id": "a1b2d715",
   "metadata": {},
   "outputs": [],
   "source": [
    "location = \"./The 1 Million Song Database/src/TRAAAAW128F429D538.h5\"\n",
    "\n",
    "h5 = hdf5_getters.open_h5_file_read(location)\n",
    "duration = hdf5_getters.get_duration(h5)\n",
    "h5.close()\n",
    "\n",
    "#df = pd.read_hdf(location)"
   ]
  },
  {
   "cell_type": "code",
   "execution_count": null,
   "id": "43652c60",
   "metadata": {},
   "outputs": [],
   "source": []
  }
 ],
 "metadata": {
  "kernelspec": {
   "display_name": "Python 3 (ipykernel)",
   "language": "python",
   "name": "python3"
  },
  "language_info": {
   "codemirror_mode": {
    "name": "ipython",
    "version": 3
   },
   "file_extension": ".py",
   "mimetype": "text/x-python",
   "name": "python",
   "nbconvert_exporter": "python",
   "pygments_lexer": "ipython3",
   "version": "3.9.7"
  }
 },
 "nbformat": 4,
 "nbformat_minor": 5
}
